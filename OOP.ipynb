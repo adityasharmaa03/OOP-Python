{
 "cells": [
  {
   "cell_type": "markdown",
   "id": "5d87e288-79ee-4d10-9107-b199923a7439",
   "metadata": {},
   "source": [
    "# Object Oriented Programming in python"
   ]
  },
  {
   "cell_type": "markdown",
   "id": "3032be2e-82ee-4798-acf4-d91c8158b256",
   "metadata": {},
   "source": [
    "Problem 1 create a car class with attributes like brand and model. Then create an instance of this class\\\n",
    "Problem 2 add a method to the car class that displays the full name of the car (brand + model)\\\n",
    "Problem 3 Create an ElectricCar class that inherits from the Car class and has an additional attribute battery_size\\\n",
    "Problem 4 Modify the car class to encapsulate the brand attribute, making it private and providing a getter method for it\\\n",
    "problem 5 Demonstrate polymorphism by defining a method fuel_type in both Car and ElectricCar classes but with different behaviours\\\n",
    "Problem 6 Add a class variable to Car that keeps track of many cars created.\\\n",
    "Problem 7 Add a static method to the car class that returns a general description of cars.\\\n",
    "Problem 8 Use a property decorator in the Car class to make the model attribute read-only.\\\n",
    "Problem 9 Demonstrate the use of isinstance() to check if my_tesla is an instance of the Car and ElectricCar class.\\\n",
    "problem 10 Create two classes Battery and Engine and let the ElectricCar class inherit from both, demonstrating multiple inheritence."
   ]
  },
  {
   "cell_type": "code",
   "execution_count": 3,
   "id": "bb0a484f-0ba6-4e39-914e-236995384d86",
   "metadata": {},
   "outputs": [
    {
     "name": "stdout",
     "output_type": "stream",
     "text": [
      "Toyota\n",
      "Fortuner\n",
      "Toyota Fortuner\n",
      "True\n",
      "True\n"
     ]
    }
   ],
   "source": [
    "class Car:\n",
    "    total_cars = 0 # calss variable\n",
    "    \n",
    "    def __init__(self, brand, model):\n",
    "        self.__brand = brand\n",
    "        self.__model = model\n",
    "        Car.total_cars += 1 # To access the class variable use class name as an object\n",
    "    \n",
    "    def full_name(self):\n",
    "        return f'{self.__brand} {self.__model}'\n",
    "\n",
    "    # getter method to access brand of car\n",
    "    def get_brand(self):\n",
    "        return self.__brand\n",
    "\n",
    "    def fuel_type(self):\n",
    "        return 'Petrol or Diesel'\n",
    "\n",
    "    @staticmethod\n",
    "    def general_description():\n",
    "        return 'Cars are means of transport.'\n",
    "\n",
    "    @property\n",
    "    def model(self):\n",
    "        return self.__model\n",
    "\n",
    "class ElectricCar(Car):\n",
    "    def __init__(self, brand, model, battery_size):\n",
    "        super().__init__(brand, model)\n",
    "        self.battery = battery_size\n",
    "    \n",
    "    def fuel_type(self):\n",
    "        return 'Electric Charge'\n",
    "\n",
    "# object of class Car\n",
    "my_car = Car(\"Toyota\", \"Fortuner\")\n",
    "print(my_car.get_brand())\n",
    "print(my_car.model)\n",
    "print(my_car.full_name())\n",
    "\n",
    "my_electric_car = ElectricCar(\"Tesla\", \"Model S\", \"85 kWh\")\n",
    "# print(my_electric_car.get_brand())\n",
    "# print(my_electric_car.model)\n",
    "# print(my_electric_car.full_name())\n",
    "# print(my_electric_car.fuel_type())\n",
    "\n",
    "# safari = Car('Tata', 'Safari')\n",
    "# print(safari.fuel_type())\n",
    "\n",
    "# print(Car.total_cars)\n",
    "\n",
    "print(isinstance(my_electric_car, Car))\n",
    "print(isinstance(my_electric_car, ElectricCar))"
   ]
  },
  {
   "cell_type": "code",
   "execution_count": 16,
   "id": "a775dbef-003c-4835-914c-19efa2f18987",
   "metadata": {},
   "outputs": [
    {
     "name": "stdout",
     "output_type": "stream",
     "text": [
      "Cars are means of transport.\n"
     ]
    }
   ],
   "source": [
    "# Accessing static method\n",
    "print(Car.general_description())"
   ]
  },
  {
   "cell_type": "code",
   "execution_count": 23,
   "id": "243ea8b0-fa6b-40bf-b17f-3527b834212b",
   "metadata": {},
   "outputs": [
    {
     "name": "stdout",
     "output_type": "stream",
     "text": [
      "City\n"
     ]
    }
   ],
   "source": [
    "new_car = Car('Honda', 'City')\n",
    "# print(new_car.get_brand())\n",
    "print(new_car.model)\n",
    "\n"
   ]
  },
  {
   "cell_type": "code",
   "execution_count": 6,
   "id": "c41ae1dd-41ca-437f-b485-cdb0357f2b3f",
   "metadata": {},
   "outputs": [],
   "source": [
    "class Battery:\n",
    "    def battery_info(self):\n",
    "        return 'This is battery'\n",
    "\n",
    "class Engine:\n",
    "    def engine_info(self):\n",
    "        return 'This is Engine info'\n",
    "\n",
    "class ElectricCarTwo(Car, Battery, Engine):\n",
    "    pass"
   ]
  },
  {
   "cell_type": "code",
   "execution_count": 7,
   "id": "a4c738a3-d52c-47d2-87a2-2811d86a6bb6",
   "metadata": {},
   "outputs": [
    {
     "name": "stdout",
     "output_type": "stream",
     "text": [
      "This is Engine info\n",
      "This is battery\n"
     ]
    }
   ],
   "source": [
    "my_tesla = ElectricCarTwo('Tesla', 'Model S')\n",
    "print(my_tesla.engine_info())\n",
    "print(my_tesla.battery_info())"
   ]
  },
  {
   "cell_type": "code",
   "execution_count": null,
   "id": "676a3dcd-6272-49c2-bdef-85ded3ca2638",
   "metadata": {},
   "outputs": [],
   "source": []
  }
 ],
 "metadata": {
  "kernelspec": {
   "display_name": "Python 3 (ipykernel)",
   "language": "python",
   "name": "python3"
  },
  "language_info": {
   "codemirror_mode": {
    "name": "ipython",
    "version": 3
   },
   "file_extension": ".py",
   "mimetype": "text/x-python",
   "name": "python",
   "nbconvert_exporter": "python",
   "pygments_lexer": "ipython3",
   "version": "3.12.3"
  }
 },
 "nbformat": 4,
 "nbformat_minor": 5
}
